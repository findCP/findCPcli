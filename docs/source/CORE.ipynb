{
 "cells": [
  {
   "cell_type": "markdown",
   "metadata": {},
   "source": [
    "## 1. findCPcore\n"
   ]
  },
  {
   "cell_type": "markdown",
   "metadata": {},
   "source": [
    "### Import core modules\n",
    "\n",
    "In order to use **findCPcore** library you have to import the following core modules."
   ]
  },
  {
   "cell_type": "code",
   "execution_count": 1,
   "metadata": {},
   "outputs": [],
   "source": [
    "import sys\n",
    "\n",
    "from findCPcore import CobraMetabolicModel"
   ]
  },
  {
   "cell_type": "markdown",
   "metadata": {},
   "source": [
    "### Read metabolic model\n",
    "\n",
    "Read input metabolic model in [Systems Biology Markup Language (SBML)](http://sbml.org) format. SBML is a XML-based standard for systems biology model's exchange.\n",
    "\n",
    "Allowed files formats are:\n",
    "* xml\n",
    "* json\n",
    "* yml"
   ]
  },
  {
   "cell_type": "code",
   "execution_count": 2,
   "metadata": {},
   "outputs": [],
   "source": [
    "model = CobraMetabolicModel(\"aureus.xml\")"
   ]
  },
  {
   "cell_type": "markdown",
   "metadata": {},
   "source": [
    "### Get model info\n"
   ]
  },
  {
   "cell_type": "markdown",
   "metadata": {},
   "source": [
    "The following methods allow us to print on the command line data from the model."
   ]
  },
  {
   "cell_type": "markdown",
   "metadata": {},
   "source": [
    "#### Model info\n"
   ]
  },
  {
   "cell_type": "code",
   "execution_count": 3,
   "metadata": {},
   "outputs": [
    {
     "name": "stdout",
     "output_type": "stream",
     "text": [
      "MODEL INFO\n",
      "-------------------------------------------------------\n",
      "MODEL:  MODEL1507180070\n",
      "REACTIONS:  743\n",
      "METABOLITES:  655\n",
      "GENES:  619\n",
      "COMPARTMENTS:  c\n",
      "               e\n",
      "\n"
     ]
    }
   ],
   "source": [
    "model.print_model_info()"
   ]
  },
  {
   "cell_type": "markdown",
   "metadata": {},
   "source": [
    "#### Metabolites\n"
   ]
  },
  {
   "cell_type": "code",
   "execution_count": 4,
   "metadata": {
    "scrolled": false
   },
   "outputs": [
    {
     "name": "stdout",
     "output_type": "stream",
     "text": [
      "MODEL:  MODEL1507180070  - NUMBER OF METABOLITES:  655\n",
      "METABOLITE  |  COMPARTMENT      |  REACTION ID\n",
      "-------------------------------------------------------\n",
      "10fthf_c    |  c                |  biomass_SA_7a\n",
      "            |                   |  biomass_SA_8a\n",
      "            |                   |  FTHFL\n",
      "            |                   |  biomass_SA_7b\n",
      "            |                   |  MTHFC\n",
      "            |                   |  AICART\n",
      "            |                   |  GARFT\n",
      "12dgr_EC_c  |  c                |  biomass_SA_2a\n",
      "            |                   |  biomass_SA_2b\n",
      "            |                   |  biomass_SA_3b\n",
      "            |                   |  biomass_SA_lipids_only\n",
      "            |            "
     ]
    },
    {
     "data": {
      "text/html": [
       "* * *"
      ]
     },
     "metadata": {},
     "output_type": "display_data"
    }
   ],
   "source": [
    "model.print_metabolites()"
   ]
  },
  {
   "cell_type": "markdown",
   "metadata": {},
   "source": [
    "#### Reactions\n"
   ]
  },
  {
   "cell_type": "code",
   "execution_count": 5,
   "metadata": {},
   "outputs": [
    {
     "name": "stdout",
     "output_type": "stream",
     "text": [
      "MODEL:  MODEL1507180070  - NUMBER OF REACTIONS:  743\n",
      "REACTION ID | UPPER BOUND | LOWER BOUND | REACTION\n",
      "-------------------------------------------------------\n",
      "3M2OBLOXRD  |   999999.0  |  -999999.0  |  3mob_c + h_c + lpam_c <=> 2mpdhl_c + co2_c\n",
      "3M2OPLOXRD  |   999999.0  |  -999999.0  |  3mop_c + h_c + lpam_c <=> 2mbdhl_c + co2_c\n",
      "4M2OPLOXRD  |   999999.0  |  -999999.0  |  4mop_c + h_c + lpam_c <=> 3mbdhl_c + co2_c\n",
      "6PGALSZ     |   999999.0  |  0.0        |  h2o_c + lac6p_c --> dgal6p_c + glc_DASH_D_c\n",
      "6PHBG       |   999999.0  |  0.0        |  h2o_c + salc6p_c --> 2hymeph_c + g6p_c\n",
      "ABTAr       |   999999.0  |  0.0        |  4abut_c + akg_c --> glu_DASH_L_c + sucsal_c\n",
      "ACACT1r     |   999999.0  "
     ]
    },
    {
     "data": {
      "text/html": [
       "* * *"
      ]
     },
     "metadata": {},
     "output_type": "display_data"
    }
   ],
   "source": [
    "model.print_reactions()"
   ]
  },
  {
   "cell_type": "markdown",
   "metadata": {},
   "source": [
    "#### Genes\n"
   ]
  },
  {
   "cell_type": "code",
   "execution_count": 6,
   "metadata": {},
   "outputs": [
    {
     "name": "stdout",
     "output_type": "stream",
     "text": [
      "MODEL:  MODEL1507180070  - NUMBER OF GENES:  619\n",
      "GENE ID     |  GENE NAME   |  REACTION ID |  GPR RELATION\n",
      "-------------------------------------------------------\n",
      "SA0008      |  SA0008      |  HISDr       |  SA0008         \n",
      "SA0009      |  SA0009      |  SERTRS      |  SA0009         \n",
      "SA0011      |  SA0011      |  HSERTA      |  SA0011         \n",
      "SA0016      |  SA0016      |  ADSS        |  SA0016         \n",
      "SA0036      |  SA0036      |  GPDDA2      |  SA0036 or SA0820 or SA1542 or SA0969 or SA0220\n",
      "            |              |  GPDDA5      |  SA0036 or SA0820 or SA1542 or SA0969 or SA0220\n",
      "            |              |  GPDDA3      |  SA0036 or SA0820 or SA1542 or SA0969 or SA0220\n",
      "            |    "
     ]
    },
    {
     "data": {
      "text/html": [
       "* * *"
      ]
     },
     "metadata": {},
     "output_type": "display_data"
    }
   ],
   "source": [
    "model.print_genes()"
   ]
  },
  {
   "cell_type": "markdown",
   "metadata": {},
   "source": [
    "### Dead-end metabolites\n",
    "\n",
    "[Dead-end metabolites](https://journals.plos.org/plosone/article?id=10.1371/journal.pone.0075210) are those metabolites which are not consumed or not produced by any reaction of a given compartment of the model including exchange reactions."
   ]
  },
  {
   "cell_type": "markdown",
   "metadata": {},
   "source": [
    "#### Finding Dead-end metabolites\n",
    "\n",
    "Dead-end metabolites of the model are calculated with the method ```find_dem()```. The method ```dem()``` returns a python [dict](https://docs.python.org/2/tutorial/datastructures.html#dictionaries) with the following content:   \n",
    "- **key**: string with compartment name.   \n",
    "- **value**: list with [cobra.core.metabolites](https://cobrapy.readthedocs.io/en/latest/getting_started.html#Metabolites)."
   ]
  },
  {
   "cell_type": "code",
   "execution_count": 7,
   "metadata": {
    "scrolled": false
   },
   "outputs": [
    {
     "data": {
      "text/plain": [
       "{'c': [<Metabolite 2pglyc_c at 0x7fe3dae1c110>,\n",
       "  <Metabolite adcobdam_c at 0x7fe3dae4e190>,\n",
       "  <Metabolite 2ombz_c at 0x7fe42cece250>,\n",
       "  <Metabolite fdxox_c at 0x7fe40fdde750>,\n",
       "  <Metabolite nop_c at 0x7fe40fd90910>,\n",
       "  <Metabolite acmama_c at 0x7fe3dae48950>,\n",
       "  <Metabolite adprib_c at 0x7fe3dae4e950>,\n",
       "  <Metabolite DGDG_SA_c at 0x7fe3dae42990>,\n",
       "  <Metabolite udcp_c at 0x7fe40fd3cb10>,\n",
       "  <Metabolite Sptmyn_c at 0x7fe3dae42b50>,\n",
       "  <Metabolite mhpglu_c at 0x7fe40fd86b50>,\n",
       "  <Metabolite 12dgr_EC_c at 0x7fe3dae24b90>,\n",
       "  <Metabolite o2s_c at 0x7fe40fd90bd0>,\n",
       "  <Metabolite Stmyn_c at 0x7fe3dae42bd0>,\n",
       "  <Metabolite drib_c at 0x7fe40fdd2c50>,\n",
       "  <Metabolite mi1p_DASH_D_c at 0x7fe40fd86c50>,\n",
       "  <Metabol"
      ]
     },
     "execution_count": 7,
     "metadata": {},
     "output_type": "execute_result"
    },
    {
     "data": {
      "text/html": [
       "* * *"
      ]
     },
     "metadata": {},
     "output_type": "display_data"
    }
   ],
   "source": [
    "model.find_dem()\n",
    "model.dem()"
   ]
  },
  {
   "cell_type": "markdown",
   "metadata": {},
   "source": [
    "Dead-end metabolites can be printed on the command line with ```print_dem()``` method."
   ]
  },
  {
   "cell_type": "code",
   "execution_count": 8,
   "metadata": {},
   "outputs": [
    {
     "name": "stdout",
     "output_type": "stream",
     "text": [
      "MODEL:  MODEL1507180070  - NUMBER OF DEM:  2  - COMPARTMENT:  ALL\n",
      "METABOLITE  |  COMPARTMENT      |  REACTION ID\n",
      "-------------------------------------------------------\n",
      "2pglyc_c    |  c                |  PGLYCP\n",
      "adcobdam_c  |  c                |  ADCYRS\n",
      "2ombz_c     |  c                |  URFGTT\n",
      "fdxox_c     |  c                |  OOR3r\n",
      "nop_c       |  c                |  NOPD\n",
      "acmama_c    |  c                |  AMAA\n",
      "adprib_c    |  c                |  ADPRDP\n",
      "DGDG_SA_c   |  c                |  biomass_SA_lipids_only\n",
      "            |                   |  biomass_SA_2a\n",
      "udcp_c      |  c                |  UDCPKr\n",
      "Sptmyn_c    |  c                |  Spt3AdT\n",
      "mhpglu_c    |  c                |  MHPGLUT\n",
      "12dgr_E"
     ]
    },
    {
     "data": {
      "text/html": [
       "* * *"
      ]
     },
     "metadata": {},
     "output_type": "display_data"
    }
   ],
   "source": [
    "model.print_dem()"
   ]
  },
  {
   "cell_type": "markdown",
   "metadata": {},
   "source": [
    "Dead-end metabolites printed can be limited to a specific compartment. Available compartments are given by ```model.compartments()``` method."
   ]
  },
  {
   "cell_type": "code",
   "execution_count": 9,
   "metadata": {},
   "outputs": [
    {
     "name": "stdout",
     "output_type": "stream",
     "text": [
      "MODEL:  MODEL1507180070  - NUMBER OF DEM:  2  - COMPARTMENT:  e\n",
      "METABOLITE  |  COMPARTMENT      |  REACTION ID\n",
      "-------------------------------------------------------\n",
      "nh4_e       |  e                |  NH4t4\n",
      "            |                   |  EX_nh4_e\n",
      "lcts_e      |  e                |  LACpts\n",
      "            |                   |  EX_lcts_e\n",
      "mnl_e       |  e                |  EX_mnl_e\n",
      "            |                   |  MNLpts\n",
      "man_e       |  e                |  EX_man_e\n",
      "            |                   |  MANpts\n",
      "mobd_e      |  e                |  MOBDabc\n",
      "            |                   |  EX_mobd_e\n",
      "ni2_e       |  e                |  NIabc\n",
      "            |                   |  EX_ni2_e\n",
      "gua_e       |  e"
     ]
    },
    {
     "data": {
      "text/html": [
       "* * *"
      ]
     },
     "metadata": {},
     "output_type": "display_data"
    }
   ],
   "source": [
    "model.print_dem(compartment=\"e\")"
   ]
  },
  {
   "cell_type": "markdown",
   "metadata": {},
   "source": [
    "#### Removing dead-end metabolites\n",
    "\n",
    "Method ```remove_dem()``` removes dead-end metabolites from the model. Once dead-end metabolites are deleted, some reactions might not produce a metabolite anymore so the method deletes also these reactions and loops again until no dead-end metabolite is found:\n",
    "\n",
    "```\n",
    "while number of metabolites does not change:\n",
    "    delete all dead-end metabolites\n",
    "    for reaction that produced or consumed dead-end metabolites:\n",
    "        if reaction produces or consumes 0 metabolites [and is not exchange nor demand]: \n",
    "            delete reaction\n",
    "    find dead-end metabolites\n",
    "```\n",
    "\n",
    "The reactions that are deleted on the method can be modified by the following params: \n",
    "\n",
    "  - **delete_exchange** :    \n",
    "    - **True** : all the reactions that are produce or consume 0 metabolites are deleted whether they are exchange/demand or not\n",
    "    - **False** : (default) deleted according to 'keep_all_incomplete_reactions' param. \n",
    "  - **keep_all_incomplete_reactions** :\n",
    "    - **False**: if a reaction is a [cobra boundary reaction](https://cobrapy.readthedocs.io/en/latest/media.html#Boundary-reactions) (calculated by heuristics) that reaction can't be deleted.  \n",
    "    - **True**: (default) if a reaction initially doesn't produce or consume any metabolite that reaction can't be deleted."
   ]
  },
  {
   "cell_type": "code",
   "execution_count": 10,
   "metadata": {},
   "outputs": [
    {
     "name": "stdout",
     "output_type": "stream",
     "text": [
      "Metabolites:  655 \n",
      "Reactions:  743\n"
     ]
    }
   ],
   "source": [
    "print(\"Metabolites: \", len(model.metabolites()), \"\\nReactions: \", len(model.reactions()))\n"
   ]
  },
  {
   "cell_type": "code",
   "execution_count": 11,
   "metadata": {},
   "outputs": [],
   "source": [
    "model.remove_dem()"
   ]
  },
  {
   "cell_type": "code",
   "execution_count": 12,
   "metadata": {
    "scrolled": true
   },
   "outputs": [
    {
     "name": "stdout",
     "output_type": "stream",
     "text": [
      "Metabolites:  486 \n",
      "Reactions:  739\n"
     ]
    }
   ],
   "source": [
    "print(\"Metabolites: \", len(model.metabolites()), \"\\nReactions: \", len(model.reactions()))\n"
   ]
  },
  {
   "cell_type": "markdown",
   "metadata": {},
   "source": [
    "### Dead reactions\n",
    "\n",
    "Dead reactions are those reactions with upper and lower flux equal to zero.\n",
    "\n",
    "#### Finding Dead reactions\n",
    "\n",
    "Dead reactions of the model are calculated with the method ```dead_reactions()```, which returns a list of [cobra.core.reactions](https://cobrapy.readthedocs.io/en/latest/getting_started.html#Reactions) with dead reactions."
   ]
  },
  {
   "cell_type": "code",
   "execution_count": 13,
   "metadata": {},
   "outputs": [
    {
     "data": {
      "text/plain": [
       "[<Reaction SA_biomass_1a at 0x7fe40f8359d0>,\n",
       " <Reaction biomass_SA_2a at 0x7fe40f7025d0>,\n",
       " <Reaction biomass_SA_2b at 0x7fe40f702a50>,\n",
       " <Reaction biomass_SA_3a at 0x7fe40f702ed0>,\n",
       " <Reaction biomass_SA_3b at 0x7fe40f702c90>,\n",
       " <Reaction biomass_SA_4a at 0x7fe40f7160d0>,\n",
       " <Reaction biomass_SA_5a at 0x7fe40f716050>,\n",
       " <Reaction biomass_SA_6a at 0x7fe40f716fd0>,\n",
       " <Reaction biomass_SA_6b at 0x7fe40f721fd0>,\n",
       " <Reaction biomass_SA_7a at 0x7fe40f730f90>,\n",
       " <Reaction biomass_SA_7b at 0x7fe40f6bff90>,\n",
       " <Reaction biomass_SA_lipids_only at 0x7fe40f721f90>,\n",
       " <Reaction biomass_SA_nuc_only at 0x7fe40f710c90>,\n",
       " <Reaction biomass_SA_only_AA at 0x7fe40f730fd0>]"
      ]
     },
     "execution_count": 13,
     "metadata": {},
     "output_type": "execute_result"
    }
   ],
   "source": [
    "model.dead_reactions()"
   ]
  },
  {
   "cell_type": "markdown",
   "metadata": {},
   "source": [
    "### Chokepoint reactions\n",
    "\n",
    "[Chokepoint reactions](https://www.ncbi.nlm.nih.gov/pmc/articles/PMC2174424/) are those reactions that are the only consumer or producer of a given metabolite that isn't a dead-end metabolite. "
   ]
  },
  {
   "cell_type": "markdown",
   "metadata": {},
   "source": [
    "#### Finding chokepoint reactions\n",
    "\n",
    "Chokepoint reactions are calculated with the method ```find_chokepoints()```. The method ```chokepoints()``` returns a list of tuples of types ([cobra.core.reactions](https://cobrapy.readthedocs.io/en/latest/getting_started.html#Reactions), [cobra.core.metabolites](https://cobrapy.readthedocs.io/en/latest/getting_started.html#Metabolites)) representing a chokepoint reactions object and the metabolite it only produces/consumes."
   ]
  },
  {
   "cell_type": "code",
   "execution_count": 15,
   "metadata": {
    "scrolled": true
   },
   "outputs": [
    {
     "data": {
      "text/plain": [
       "[(<Reaction PAPA_SA at 0x7fe40f2e4a10>,\n",
       "  <Metabolite 12dgr_SA_c at 0x7fe40fd65590>),\n",
       " (<Reaction PROD2 at 0x7fe40f249cd0>, <Metabolite 1pyr5c_c at 0x7fe40fd65bd0>),\n",
       " (<Reaction DHDPRy at 0x7fe40f4d1d90>,\n",
       "  <Metabolite 23dhdp_c at 0x7fe40fdb1310>),\n",
       " (<Reaction DHDPS at 0x7fe40f4d34d0>, <Metabolite 23dhdp_c at 0x7fe40fdb1310>),\n",
       " (<Reaction DHAD1 at 0x7fe40f4ce8d0>, <Metabolite 23dhmb_c at 0x7fe40fde34d0>),\n",
       " (<Reaction KARA1i at 0x7fe40f3ce910>,\n",
       "  <Metabolite 23dhmb_c at 0x7fe40fde34d0>),\n",
       " (<Reaction DHAD2 at 0x7fe40f4d1490>, <Metabolite 23dhmp_c at 0x7fe40fde3910>),\n",
       " (<Reaction KARA2i at 0x7fe40f3ceb10>,\n",
       "  <Metabolite 23dhmp_c at 0x7fe40fde3910>),\n",
       " (<Reaction DHPPDA at 0x7fe40f4d9950>,\n",
       "  <Met"
      ]
     },
     "execution_count": 15,
     "metadata": {},
     "output_type": "execute_result"
    },
    {
     "data": {
      "text/html": [
       "* * *"
      ]
     },
     "metadata": {},
     "output_type": "display_data"
    }
   ],
   "source": [
    "# Read initial model again\n",
    "model = CobraMetabolicModel(\"aureus.xml\")\n",
    "\n",
    "model.find_chokepoints()\n",
    "model.chokepoints()"
   ]
  },
  {
   "cell_type": "markdown",
   "metadata": {},
   "source": [
    "Dead reactions can be excluded from the computation of chokepoints with the ```exclude_dead_reactions=True``` parameter. This is strongly recommended as dead reactions are considered forward reactions by default an this can lead to misinterpretations."
   ]
  },
  {
   "cell_type": "code",
   "execution_count": 16,
   "metadata": {},
   "outputs": [
    {
     "data": {
      "text/plain": [
       "[(<Reaction PAPA_SA at 0x7fe40f2e4a10>,\n",
       "  <Metabolite 12dgr_SA_c at 0x7fe40fd65590>),\n",
       " (<Reaction PROD2 at 0x7fe40f249cd0>, <Metabolite 1pyr5c_c at 0x7fe40fd65bd0>),\n",
       " (<Reaction DHDPRy at 0x7fe40f4d1d90>,\n",
       "  <Metabolite 23dhdp_c at 0x7fe40fdb1310>),\n",
       " (<Reaction DHDPS at 0x7fe40f4d34d0>, <Metabolite 23dhdp_c at 0x7fe40fdb1310>),\n",
       " (<Reaction DHAD1 at 0x7fe40f4ce8d0>, <Metabolite 23dhmb_c at 0x7fe40fde34d0>),\n",
       " (<Reaction KARA1i at 0x7fe40f3ce910>,\n",
       "  <Metabolite 23dhmb_c at 0x7fe40fde34d0>),\n",
       " (<Reaction DHAD2 at 0x7fe40f4d1490>, <Metabolite 23dhmp_c at 0x7fe40fde3910>),\n",
       " (<Reaction KARA2i at 0x7fe40f3ceb10>,\n",
       "  <Metabolite 23dhmp_c at 0x7fe40fde3910>),\n",
       " (<Reaction DHPPDA at 0x7fe40f4d9950>,\n",
       "  <Met"
      ]
     },
     "execution_count": 16,
     "metadata": {},
     "output_type": "execute_result"
    },
    {
     "data": {
      "text/html": [
       "* * *"
      ]
     },
     "metadata": {},
     "output_type": "display_data"
    }
   ],
   "source": [
    "model.find_chokepoints(exclude_dead_reactions=True)\n",
    "model.chokepoints()"
   ]
  },
  {
   "cell_type": "markdown",
   "metadata": {},
   "source": [
    "Chokepoint reactions can also be printed on the command line with ```print_chokepoints```."
   ]
  },
  {
   "cell_type": "code",
   "execution_count": 17,
   "metadata": {},
   "outputs": [
    {
     "name": "stdout",
     "output_type": "stream",
     "text": [
      "MODEL:  MODEL1507180070  - NUMBER OF CHOKEPOINTS:  448\n",
      "METABOLITE ID |  METABOLITE NAME                           | REACTION ID | REACTION NAME\n",
      "------------------------------------------------------------\n",
      "12dgr_SA_c    |  1,2-Daicylglycerol (Saureus)              |  PAPA_SA    |  Phosphatidate phosphatase\n",
      "1pyr5c_c      |  1-Pyrroline-5-carboxylate                 |  PROD2      |  Proline dehydrogenase\n",
      "23dhdp_c      |  2,3-Dihydrodipicolinate                   |  DHDPRy     |  dihydrodipicolinate reductase (NADPH)\n",
      "23dhdp_c      |  2,3-Dihydrodipicolinate                   |  DHDPS      |  dihydrodipicolinate synthase\n",
      "23dhmb_c      |  (R)-2,3-Dihydroxy-3-methylbutanoate       |  DHAD1      |  "
     ]
    },
    {
     "data": {
      "text/html": [
       "* * *"
      ]
     },
     "metadata": {},
     "output_type": "display_data"
    }
   ],
   "source": [
    "model.print_chokepoints()"
   ]
  },
  {
   "cell_type": "markdown",
   "metadata": {},
   "source": [
    "### Flux Balance Analysis\n",
    "\n",
    "[Flux Balance Analysis (FBA)](https://www.ncbi.nlm.nih.gov/pmc/articles/PMC3108565/) is a mathematical procedure used to calculate the growth rate of a metabolic model considering an objective function to maximize and the reactions flux as constraints.\n",
    "\n",
    "The method ```get_growth()``` calculates the objective value (growth rate) that maximizes the objective function. This method uses [cobra.core.model.slim_optimize](https://cobrapy.readthedocs.io/en/latest/autoapi/cobra/core/model/index.html?highlight=slim#cobra.core.model.Model.slim_optimize) and was obtained from [cobra.flux_analysis.deletion](https://cobrapy.readthedocs.io/en/latest/_modules/cobra/flux_analysis/deletion.html#_get_growth). \n",
    "\n",
    "The objective value obtained with FBA can be accessed with ```objective_value()```."
   ]
  },
  {
   "cell_type": "code",
   "execution_count": 18,
   "metadata": {},
   "outputs": [
    {
     "data": {
      "text/plain": [
       "0.1580502916027849"
      ]
     },
     "execution_count": 18,
     "metadata": {},
     "output_type": "execute_result"
    }
   ],
   "source": [
    "model.get_growth()\n",
    "model.objective_value()"
   ]
  },
  {
   "cell_type": "markdown",
   "metadata": {},
   "source": [
    "The objective function that is maximized during FBA can be accessed by ```objective()```"
   ]
  },
  {
   "cell_type": "code",
   "execution_count": 19,
   "metadata": {},
   "outputs": [
    {
     "data": {
      "text/plain": [
       "'1.0*biomass_SA_8a - 1.0*biomass_SA_8a_reverse_4ce77'"
      ]
     },
     "execution_count": 19,
     "metadata": {},
     "output_type": "execute_result"
    }
   ],
   "source": [
    "model.objective()"
   ]
  },
  {
   "cell_type": "markdown",
   "metadata": {},
   "source": [
    "This objective function can be changed by another reaction of the model with ```set_objective()```. This method receives the id of the reaction that will be set as the new objective value."
   ]
  },
  {
   "cell_type": "code",
   "execution_count": 20,
   "metadata": {},
   "outputs": [
    {
     "data": {
      "text/plain": [
       "'1.0*DHAD1 - 1.0*DHAD1_reverse_39dca'"
      ]
     },
     "execution_count": 20,
     "metadata": {},
     "output_type": "execute_result"
    }
   ],
   "source": [
    "model.set_objective(\"DHAD1\")\n",
    "model.objective()"
   ]
  },
  {
   "cell_type": "markdown",
   "metadata": {},
   "source": [
    "### Flux Variability Analysis\n",
    "\n",
    "[Flux Vatiability Analysis (FVA)](https://bmcbioinformatics.biomedcentral.com/articles/10.1186/1471-2105-11-489) is a mathematical procedure used to calculate the ''minimum and maximum flux for reactions in the network while maintaining some state of the network, e.g., supporting 90% of maximal possible biomass production rate''.\n",
    "\n",
    "The method ```fva()``` runs Flux Variability Analysis on the model. This method runs [cobra.flux_analysis.variability](https://cobrapy.readthedocs.io/en/latest/autoapi/cobra/flux_analysis/variability/index.html?highlight=flux_varia#cobra.flux_analysis.variability.flux_variability_analysis) and as so it allows the same parameters (see the previous link):   \n",
    "  - **loopless**: (default False) return only loopless solutions.   \n",
    "  - **threshold**: (float default None. In cobrapy 'fraction_of_optimum'): Requires that the objective value is at least the fraction times maximum objective value.   \n",
    "  - **pfba_factor**: (float default None) the total sum of absolute fluxes must not be larger than this value times the smallest possible sum of absolute fluxes.\n",
    "\n",
    "An extra parameter:   \n",
    "  - **verbose**: (default False) if True prints on the command line the result of FVA while running the analysis.\n",
    "\n",
    "Method ```fva()``` returns an error list if there was an error while running FVA or an empty list ```[]``` otherwise. "
   ]
  },
  {
   "cell_type": "code",
   "execution_count": 21,
   "metadata": {},
   "outputs": [
    {
     "data": {
      "text/plain": [
       "[]"
      ]
     },
     "execution_count": 21,
     "metadata": {},
     "output_type": "execute_result"
    }
   ],
   "source": [
    "model.fva(threshold=0.95)"
   ]
  },
  {
   "cell_type": "code",
   "execution_count": 22,
   "metadata": {},
   "outputs": [
    {
     "name": "stdout",
     "output_type": "stream",
     "text": [
      "FLUX VARIABILITY ANALYSIS:  MODEL1507180070\n",
      "REACTION:  3-Methyl-2-oxobutanoate:lipoamide oxidoreductase(decarboxylating and acceptor-2-methylpropanoylating)\n",
      "    fva ranges:   [ 0.0        ,  0.0        ]\n",
      "REACTION:  3-Methyl-2-oxopentanoate:lipoamide oxidoreductase(decarboxylating and acceptor-2-methylpropanoylating)\n",
      "    fva ranges:   [ 0.0        ,  0.0        ]\n",
      "REACTION:  4-Methyl-2-oxopentanoate:lipoamide oxidoreductase(decarboxylating and acceptor-2-methylpropanoylating)\n",
      "    fva ranges:   [ 0.0        ,  0.0        ]\n",
      "REACTION:  6-phospho-beta-galactosidase\n",
      "    fva ranges:   [ 0.0        ,  0.0        ]\n",
      "REACTION:  6-phospho-beta-glucosidase\n",
      "    fva ranges:   [ 0.0        ,  0.0        ]\n",
      "RE"
     ]
    },
    {
     "data": {
      "text/html": [
       "* * *"
      ]
     },
     "metadata": {},
     "output_type": "display_data"
    }
   ],
   "source": [
    "model.fva(threshold=0.95, verbose=True)"
   ]
  },
  {
   "cell_type": "markdown",
   "metadata": {},
   "source": [
    "The result obtained with FVA can be accessed with ```get_fva()```. This method returns a list of tuples: ([cobra.core.reaction](https://cobrapy.readthedocs.io/en/latest/getting_started.html#Reactions), \\[float\\] maximum flux, \\[float\\] minimum flux)"
   ]
  },
  {
   "cell_type": "code",
   "execution_count": 23,
   "metadata": {},
   "outputs": [
    {
     "data": {
      "text/plain": [
       "[(<Reaction 3M2OBLOXRD at 0x7fe40fc3d2d0>, 0.0, 0.0),\n",
       " (<Reaction 3M2OPLOXRD at 0x7fe40fc3d790>, 0.0, 0.0),\n",
       " (<Reaction 4M2OPLOXRD at 0x7fe40fc3d390>, 0.0, 0.0),\n",
       " (<Reaction 6PGALSZ at 0x7fe40fca2ed0>, 0.0, 0.0),\n",
       " (<Reaction 6PHBG at 0x7fe40fca2f90>, 0.0, 0.0),\n",
       " (<Reaction ABTAr at 0x7fe40f6df490>, 0.0, 0.0),\n",
       " (<Reaction ACACT1r at 0x7fe40fcb6d50>,\n",
       "  0.00032511320071648854,\n",
       "  -2065.6249999999704),\n",
       " (<Reaction ACACT2r at 0x7fe40fcb6850>, 0.0, -2065.624999999973),\n",
       " (<Reaction ACACT3r at 0x7fe40fcb6e90>, 0.0, -2065.624999999973),\n",
       " (<Reaction ACACT4r at 0x7fe40fcb6cd0>, 0.0, -2065.624999999973),\n",
       " (<Reaction ACACT5r at 0x7fe40fcb6b90>, 0.0, -2065.624999999973),\n",
       " (<Reaction ACACT6r at 0x7fe40fcb6b"
      ]
     },
     "execution_count": 23,
     "metadata": {},
     "output_type": "execute_result"
    },
    {
     "data": {
      "text/html": [
       "* * *"
      ]
     },
     "metadata": {},
     "output_type": "display_data"
    }
   ],
   "source": [
    "model.get_fva()"
   ]
  },
  {
   "cell_type": "markdown",
   "metadata": {},
   "source": [
    "#### Updating reaction's flux with FVA\n",
    "\n",
    "**findCritical** adds an extra parameter to this method which is ```update_flux```. If ```True``` the method ```fva()``` updates the model reaction's flux with the maximum and minimum flux values obtained with FVA (see the example below)."
   ]
  },
  {
   "cell_type": "code",
   "execution_count": 24,
   "metadata": {},
   "outputs": [
    {
     "name": "stdout",
     "output_type": "stream",
     "text": [
      "MODEL:  MODEL1507180070  - NUMBER OF REACTIONS:  743\n",
      "REACTION ID | UPPER BOUND | LOWER BOUND | REACTION\n",
      "-------------------------------------------------------\n",
      "3M2OBLOXRD  |   999999.0  |  -999999.0  |  3mob_c + h_c + lpam_c <=> 2mpdhl_c + co2_c\n",
      "3M2OPLOXRD  |   999999.0  |  -999999.0  |  3mop_c + h_c + lpam_c <=> 2mbdhl_c + co2_c\n",
      "4M2OPLOXRD  |   999999.0  |  -999999.0  |  4mop_c + h_c + lpam_c <=> 3mbdhl_c + co2_c\n",
      "6PGALSZ     |   999999.0  |  0.0        |  h2o_c + lac6p_c --> dgal6p_c + glc_DASH_D_c\n",
      "6PHBG       |   999999.0  |  0.0        |  h2o_c + salc6p_c --> 2hymeph_c + g6p_c\n",
      "ABTAr       |   999999.0  |  0.0        |  4abut_c + akg_c --> glu_DASH_L_c + sucsal_c\n",
      "ACACT1r     |   999999.0  "
     ]
    },
    {
     "data": {
      "text/html": [
       "* * *"
      ]
     },
     "metadata": {},
     "output_type": "display_data"
    }
   ],
   "source": [
    "# Print initial reactions of the model with initial flux values.\n",
    "model.print_reactions()"
   ]
  },
  {
   "cell_type": "code",
   "execution_count": 25,
   "metadata": {},
   "outputs": [
    {
     "data": {
      "text/plain": [
       "[]"
      ]
     },
     "execution_count": 25,
     "metadata": {},
     "output_type": "execute_result"
    }
   ],
   "source": [
    "# Update reactions flux values with FVA\n",
    "model.fva(update_flux=True)"
   ]
  },
  {
   "cell_type": "code",
   "execution_count": 26,
   "metadata": {
    "scrolled": false
   },
   "outputs": [
    {
     "name": "stdout",
     "output_type": "stream",
     "text": [
      "MODEL:  MODEL1507180070  - NUMBER OF REACTIONS:  743\n",
      "REACTION ID | UPPER BOUND | LOWER BOUND | REACTION\n",
      "-------------------------------------------------------\n",
      "3M2OBLOXRD  |   0.0       |  0.0        |  3mob_c + h_c + lpam_c --> 2mpdhl_c + co2_c\n",
      "3M2OPLOXRD  |   0.0       |  0.0        |  3mop_c + h_c + lpam_c --> 2mbdhl_c + co2_c\n",
      "4M2OPLOXRD  |   0.0       |  0.0        |  4mop_c + h_c + lpam_c --> 3mbdhl_c + co2_c\n",
      "6PGALSZ     |   0.0       |  0.0        |  h2o_c + lac6p_c --> dgal6p_c + glc_DASH_D_c\n",
      "6PHBG       |   0.0       |  0.0        |  h2o_c + salc6p_c --> 2hymeph_c + g6p_c\n",
      "ABTAr       |   0.0       |  0.0        |  4abut_c + akg_c --> glu_DASH_L_c + sucsal_c\n",
      "ACACT1r     |   -3.26642  "
     ]
    },
    {
     "data": {
      "text/html": [
       "* * *"
      ]
     },
     "metadata": {},
     "output_type": "display_data"
    }
   ],
   "source": [
    "# Print reactions of the model with refined reactions flux values.\n",
    "model.print_reactions()"
   ]
  },
  {
   "cell_type": "markdown",
   "metadata": {},
   "source": [
    "### Essential genes\n",
    "\n",
    "[Essential genes](https://link.springer.com/chapter/10.1007/978-3-642-36546-1_43) are those genes that cause a zero growth rate when knocked out.\n",
    "\n",
    "#### Finding essential genes\n",
    "\n",
    "Essential genes are calculated with the method ```find_essential_genes_1()```. This method returns an error list if there was an error during the computing or an empty list ```[]``` otherwise."
   ]
  },
  {
   "cell_type": "code",
   "execution_count": 27,
   "metadata": {
    "scrolled": true
   },
   "outputs": [
    {
     "data": {
      "text/plain": [
       "[]"
      ]
     },
     "execution_count": 27,
     "metadata": {},
     "output_type": "execute_result"
    }
   ],
   "source": [
    "model.find_essential_genes_1()"
   ]
  },
  {
   "cell_type": "markdown",
   "metadata": {},
   "source": [
    "If essential genes were computed with the method above, they can be accessed with ```essential_genes()```. This method return a list of [cobra.core.gene](https://cobrapy.readthedocs.io/en/latest/getting_started.html#Genes) with essential genes."
   ]
  },
  {
   "cell_type": "code",
   "execution_count": 28,
   "metadata": {
    "scrolled": true
   },
   "outputs": [
    {
     "data": {
      "text/plain": [
       "{<Gene SA0183 at 0x7fe40fb95450>,\n",
       " <Gene SA0512 at 0x7fe40fb7a550>,\n",
       " <Gene SA0728 at 0x7fe40fbe8690>,\n",
       " <Gene SA0729 at 0x7fe40fbe8710>,\n",
       " <Gene SA0823 at 0x7fe40fbe0fd0>,\n",
       " <Gene SA0910 at 0x7fe40fbdae10>,\n",
       " <Gene SA0911 at 0x7fe40fbdafd0>,\n",
       " <Gene SA0912 at 0x7fe40fbdab50>,\n",
       " <Gene SA0913 at 0x7fe40fbda050>,\n",
       " <Gene SA0937 at 0x7fe40fbd4e50>,\n",
       " <Gene SA0938 at 0x7fe40fbd4ad0>,\n",
       " <Gene SA0994 at 0x7fe40fbccf50>,\n",
       " <Gene SA0995 at 0x7fe40fbccb10>,\n",
       " <Gene SA0996 at 0x7fe40fbcc650>,\n",
       " <Gene SA1088 at 0x7fe40fbc7f10>,\n",
       " <Gene SA1089 at 0x7fe40fbc79d0>,\n",
       " <Gene SA1244 at 0x7fe40fc30850>,\n",
       " <Gene SA1245 at 0x7fe40fc30a10>,\n",
       " <Gene SA1255 at 0x7fe40fc30510>,\n",
       " <Gene SA1521 at 0x7fe40fc14310>,\n",
       " <Gene SA1585 at 0x7"
      ]
     },
     "execution_count": 28,
     "metadata": {},
     "output_type": "execute_result"
    },
    {
     "data": {
      "text/html": [
       "* * *"
      ]
     },
     "metadata": {},
     "output_type": "display_data"
    }
   ],
   "source": [
    "model.essential_genes()"
   ]
  },
  {
   "cell_type": "markdown",
   "metadata": {},
   "source": [
    "### Essential reactions\n",
    "\n",
    "Essential reactions are those genes that cause a zero growth rate when knocked out.\n",
    "\n",
    "#### Finding essential reactions\n",
    "\n",
    "Essential reactions are calculated with the method ```find_essential_reactions_1()```. This method returns an error list if there was an error during the computing or an empty list ```[]``` otherwise."
   ]
  },
  {
   "cell_type": "code",
   "execution_count": 29,
   "metadata": {},
   "outputs": [
    {
     "data": {
      "text/plain": [
       "[]"
      ]
     },
     "execution_count": 29,
     "metadata": {},
     "output_type": "execute_result"
    }
   ],
   "source": [
    "model.find_essential_reactions_1()"
   ]
  },
  {
   "cell_type": "markdown",
   "metadata": {},
   "source": [
    "If essential genes were computed with the method above, they can be accessed with ```essential_reactions()```. This method return a ```dict``` with keys [cobra.core.reaction](https://cobrapy.readthedocs.io/en/latest/getting_started.html#Reactions) with all the reactions of the model, and values ```float``` with the result of computing FBA with the reaction knocked-out.\n"
   ]
  },
  {
   "cell_type": "code",
   "execution_count": 30,
   "metadata": {
    "scrolled": true
   },
   "outputs": [
    {
     "data": {
      "text/plain": [
       "{<Reaction TECA1S at 0x7fe40f1d7410>: 100.00000000000126,\n",
       " <Reaction HETZK at 0x7fe40f410bd0>: 100.00000000000126,\n",
       " <Reaction YUMPS at 0x7fe40f164990>: 100.00000000000126,\n",
       " <Reaction NO3R1 at 0x7fe40f3179d0>: 100.00000000000126,\n",
       " <Reaction GLYD at 0x7fe40f45ce10>: 100.00000000000126,\n",
       " <Reaction GMHEPPA at 0x7fe40f465e90>: 100.00000000000126,\n",
       " <Reaction THRAr at 0x7fe40f1edad0>: 100.00000000000126,\n",
       " <Reaction ADPRDP at 0x7fe40f525890>: 100.00000000000126,\n",
       " <Reaction SUCBZL at 0x7fe40f1bd950>: 100.00000000000126,\n",
       " <Reaction EX_ser_DASH_L_e at 0x7fe40f493850>: 100.00000000000126,\n",
       " <Reaction biomass_SA_4a at 0x7fe40f164e90>: 100.00000000000126,\n",
       " <Reaction KAS8 at 0x7fe40f3e8e90>: 100.00000000000"
      ]
     },
     "execution_count": 30,
     "metadata": {},
     "output_type": "execute_result"
    },
    {
     "data": {
      "text/html": [
       "* * *"
      ]
     },
     "metadata": {},
     "output_type": "display_data"
    }
   ],
   "source": [
    "model.essential_reactions()"
   ]
  },
  {
   "cell_type": "markdown",
   "metadata": {},
   "source": [
    "### Essential genes reactions\n",
    "\n",
    "Essential genes reactions are those reactions that are knocked-out when an essential gene is knocked-out.\n",
    "\n",
    "#### Finding essential genes reactions\n",
    "\n",
    "Essential genes reactions are calculated with the method ```find_essential_genes_reactions()```. This method returns an error list if there was an error during the computing or an empty list ```[]``` otherwise."
   ]
  },
  {
   "cell_type": "code",
   "execution_count": 31,
   "metadata": {},
   "outputs": [
    {
     "data": {
      "text/plain": [
       "[]"
      ]
     },
     "execution_count": 31,
     "metadata": {},
     "output_type": "execute_result"
    }
   ],
   "source": [
    "model.find_essential_genes_reactions()"
   ]
  },
  {
   "cell_type": "markdown",
   "metadata": {},
   "source": [
    "If essential genes reactions were computed with the method above, they can be accessed with ```essential_genes_reactions()```. This method returns a ```dict``` with keys [cobra.core.reaction](https://cobrapy.readthedocs.io/en/latest/getting_started.html#Reactions) with all the reactions of the model, and values a ```list``` of [cobra.core.genes](https://cobrapy.readthedocs.io/en/latest/getting_started.html#Genes) with the essential genes that cause the knock-out of the reaction.\n"
   ]
  },
  {
   "cell_type": "code",
   "execution_count": 32,
   "metadata": {},
   "outputs": [
    {
     "data": {
      "text/plain": [
       "{<Reaction CYTBD at 0x7fe40f4c4890>: [<Gene SA0913 at 0x7fe40fbda050>,\n",
       "  <Gene SA0938 at 0x7fe40fbd4ad0>,\n",
       "  <Gene SA0912 at 0x7fe40fbdab50>,\n",
       "  <Gene SA0911 at 0x7fe40fbdafd0>,\n",
       "  <Gene SA0910 at 0x7fe40fbdae10>,\n",
       "  <Gene SA0937 at 0x7fe40fbd4e50>],\n",
       " <Reaction AKGDb at 0x7fe40f52c3d0>: [<Gene SA1244 at 0x7fe40fc30850>],\n",
       " <Reaction P5CD at 0x7fe40f2e4910>: [<Gene SA2341 at 0x7fe40fc4e9d0>],\n",
       " <Reaction SUCOAS at 0x7fe40f1bde90>: [<Gene SA1089 at 0x7fe40fbc79d0>,\n",
       "  <Gene SA1088 at 0x7fe40fbc7f10>],\n",
       " <Reaction PROD2 at 0x7fe40f249cd0>: [<Gene SA1585 at 0x7fe40fc0f9d0>],\n",
       " <Reaction AKGDa at 0x7fe40f52c510>: [<Gene SA1245 at 0x7fe40fc30a10>],\n",
       " <Reaction FUM at 0x7fe40f4a98d0>: [<Gene SA1669 at 0x7fe4"
      ]
     },
     "execution_count": 32,
     "metadata": {},
     "output_type": "execute_result"
    },
    {
     "data": {
      "text/html": [
       "* * *"
      ]
     },
     "metadata": {},
     "output_type": "display_data"
    }
   ],
   "source": [
    "model.essential_genes_reactions()"
   ]
  },
  {
   "cell_type": "markdown",
   "metadata": {},
   "source": [
    "## 2. FacadeUtils\n",
    "\n",
    "The module ```FacadeUtils``` from ```findCPcore``` provides specific methods for the generation of spreadsheets regarding the computation of chokepoint reactions taking into account Flux Variability Analysis and Dead End Metabolites."
   ]
  },
  {
   "cell_type": "markdown",
   "metadata": {},
   "source": [
    "### Import FacadeUtils modules\n",
    "\n",
    "Import the module"
   ]
  },
  {
   "cell_type": "code",
   "execution_count": 33,
   "metadata": {},
   "outputs": [],
   "source": [
    "from findCPcore import FacadeUtils"
   ]
  },
  {
   "cell_type": "markdown",
   "metadata": {},
   "source": [
    "### Generate chokepoint summary spreadsheet\n",
    "\n",
    "The method ```run_summary_model``` generates a spreadsheet file from a model file with the following data:    \n",
    "  - List of metabolites of the model.    \n",
    "  - List of reactions of the model.    \n",
    "  - List of genes of the model.    \n",
    "  - Upper and lower flux bound of each reaction obtained with Flux Variability Analysis.    \n",
    "  - Upper and lower flux bound of each reaction obtained with Flux Variability Analysis grouped by metabolite.   \n",
    "  - List of reversible reactions of the model before and after Flux Variability Analysis refinement (see [refinement](#### Updating reaction's flux with FVA)).    \n",
    "  - List of Dead End Metabolites before and after FVA refinement.    \n",
    "  - For the following models:   \n",
    "    &nbsp;&nbsp;&nbsp;&nbsp; * Initial model    \n",
    "    &nbsp;&nbsp;&nbsp;&nbsp; * Model without DEM     \n",
    "    &nbsp;&nbsp;&nbsp;&nbsp; * Model refined with FVA.    \n",
    "    &nbsp;&nbsp;&nbsp;&nbsp; * Model refined with FVA and with DEM removed.    \n",
    "  - The following set of assets is computed for each and included in one sheet:   \n",
    "    &nbsp;&nbsp;&nbsp;&nbsp; * List of chokepoint reactions with the metabolite they produce/consume.    \n",
    "    &nbsp;&nbsp;&nbsp;&nbsp; * List of essential genes of the models.    \n",
    "    &nbsp;&nbsp;&nbsp;&nbsp; * List of essential reactions of the models.    \n",
    "    &nbsp;&nbsp;&nbsp;&nbsp; * Comparison of chokepoint reactions, essential reactions and essential gene reactions.    \n",
    "  - Summary comparing the size of the previous sets and their intersections.    \n",
    "  \n",
    "**Method declaration:** \n",
    "\n",
    "```run_summary_model(self, model_path, print_f, arg1, arg2, objective=None, fraction=1.0)```\n",
    "\n",
    "**Parameters:**    \n",
    "  - ```model_path```: Path of the SBML metabolic model file.    \n",
    "  - ```print_f```: Callback function to inform  of the computation progression. The function must have a declaration like the following:    \n",
    "    - ``` custom_function_name(message, arg1, arg2) ```    \n",
    "  - ```arg1```: First parameter to pass to the function if any.    \n",
    "  - ```arg2```: Second parameter to pass to the function if any.    \n",
    "  - ```objective```: Reactions id to be used as objective function.    \n",
    "  - ```fraction```: Fraction of optmimum to be used with FVA.   "
   ]
  },
  {
   "cell_type": "code",
   "execution_count": 34,
   "metadata": {},
   "outputs": [
    {
     "name": "stdout",
     "output_type": "stream",
     "text": [
      "LOG:Reading model...\n",
      "LOG:Generating models...\n",
      "LOG:Searching Dead End Metabolites (D.E.M.)...\n",
      "LOG:Searching chokepoint reactions...\n",
      "LOG:Searching essential reactions...\n",
      "LOG:Searching essential genes...\n",
      "LOG:Searching essential genes reactions...\n",
      "LOG:Removing Dead End Metabolites (D.E.M.)...\n",
      "LOG:Searching essential reactions...\n",
      "LOG:Searching new chokepoint reactions...\n",
      "LOG:Searching essential genes...\n",
      "LOG:Searching essential genes reactions...\n",
      "LOG:Running Flux Variability Analysis...\n",
      "LOG:Searching Dead End Metabolites (D.E.M.)...\n",
      "LOG:Searching new chokepoint reactions...\n",
      "LOG:Searching essential genes...\n",
      "LOG:Searching essential genes reactions...\n",
      "LOG:Searching essential reactions...\n",
      "LOG:Removing"
     ]
    },
    {
     "data": {
      "text/html": [
       "* * *"
      ]
     },
     "metadata": {},
     "output_type": "display_data"
    }
   ],
   "source": [
    "def callback_print_ignore(message, arg1, arg2):\n",
    "    pass\n",
    "\n",
    "def callback_print_logger(message, arg1, arg2):\n",
    "    logger = arg1\n",
    "    logger.info(message)\n",
    "    \n",
    "def callback_print(message, arg1, arg2):\n",
    "    print(arg1 + message)\n",
    "\n",
    "facadeUtils = FacadeUtils()\n",
    "spreadsheet = facadeUtils.run_summary_model(\"aureus.xml\", callback_print, \"LOG:\", None)\n",
    "facadeUtils.save_spreadsheet(\"output.xls\", spreadsheet)"
   ]
  },
  {
   "cell_type": "markdown",
   "metadata": {},
   "source": [
    "### Generate chokepoint growth sensibility spreadsheet"
   ]
  },
  {
   "cell_type": "markdown",
   "metadata": {},
   "source": [
    "The method ```run_sensibility_analysis``` produces a spreadsheet file from a model file with an analysis of varying rhe values of fraction of optimum with FVA effects on the size of the folloing sets:\n",
    "  - Reversible Reactions (RR)\n",
    "  - Non-reversible Reactions (NR)\n",
    "  - Dead Reactions (DR)\n",
    "  - Chokepoint reactions (CP)\n",
    "\n",
    "**Method declaration**\n",
    "\n",
    "```run_sensibility_analysis(self, model_path, print_f, arg1, arg2, objective=None)```\n",
    "\n",
    "**Parameters:**    \n",
    "  - ```model_path```: Path of the SBML metabolic model file.    \n",
    "  - ```print_f```: Callback function to inform  of the computation progession. The function must have a declaration like the following:    \n",
    "  - ``` custom_function_name(message, arg1, arg2) ```    \n",
    "  - ```arg1```: First parameter to pass to the function if any.    \n",
    "  - ```arg2```: Second parameter to pass to the function if any.    \n",
    "  - ```objective```: Reactions id to be used as objective function.    "
   ]
  },
  {
   "cell_type": "code",
   "execution_count": 35,
   "metadata": {},
   "outputs": [
    {
     "name": "stdout",
     "output_type": "stream",
     "text": [
      "Reading model...\n",
      "Running Flux Variability Analysis with fraction: 0.0\n",
      "Running Flux Variability Analysis with fraction: 0.1\n",
      "Running Flux Variability Analysis with fraction: 0.2\n",
      "Running Flux Variability Analysis with fraction: 0.3\n",
      "Running Flux Variability Analysis with fraction: 0.4\n",
      "Running Flux Variability Analysis with fraction: 0.5\n",
      "Running Flux Variability Analysis with fraction: 0.6\n",
      "Running Flux Variability Analysis with fraction: 0.7\n",
      "Running Flux Variability Analysis with fraction: 0.8\n",
      "Running Flux Variability Analysis with fraction: 0.9\n",
      "Running Flux Variability Analysis with fraction: 1.0\n"
     ]
    },
    {
     "data": {
      "text/plain": [
       "(True, 'output.xls')"
      ]
     },
     "execution_count": 35,
     "metadata": {},
     "output_type": "execute_result"
    }
   ],
   "source": [
    "def callback_print(message, arg1, arg2):\n",
    "    print(message)\n",
    "\n",
    "facadeUtils = FacadeUtils()\n",
    "spreadsheet = facadeUtils.run_sensibility_analysis(\"aureus.xml\", callback_print, None, None)\n",
    "facadeUtils.save_spreadsheet(\"output.xls\", spreadsheet)"
   ]
  },
  {
   "cell_type": "code",
   "execution_count": null,
   "metadata": {},
   "outputs": [],
   "source": []
  }
 ],
 "metadata": {
  "kernelspec": {
   "display_name": "Python 3",
   "language": "python",
   "name": "python3"
  },
  "language_info": {
   "codemirror_mode": {
    "name": "ipython",
    "version": 3
   },
   "file_extension": ".py",
   "mimetype": "text/x-python",
   "name": "python",
   "nbconvert_exporter": "python",
   "pygments_lexer": "ipython3",
   "version": "3.7.9"
  }
 },
 "nbformat": 4,
 "nbformat_minor": 2
}
