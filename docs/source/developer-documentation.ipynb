{
 "cells": [
  {
   "cell_type": "markdown",
   "metadata": {},
   "source": [
    "# CORE\n"
   ]
  },
  {
   "cell_type": "markdown",
   "metadata": {},
   "source": [
    "## CORE\n"
   ]
  },
  {
   "cell_type": "markdown",
   "metadata": {},
   "source": [
    "### Import core modules\n",
    "\n",
    "In order to use **findCPcore** library you have to import the following core modules."
   ]
  },
  {
   "cell_type": "code",
   "execution_count": 1,
   "metadata": {},
   "outputs": [],
   "source": [
    "from findCPcore import MetabolicModel\n",
    "from findCPcore import CobraMetabolicModel"
   ]
  },
  {
   "cell_type": "markdown",
   "metadata": {},
   "source": [
    "### Read metabolic model\n",
    "\n",
    "Read input metabolic model in [Systems Biology Markup Language (SBML)](http://sbml.org) format. SBML is a XML-based standard for systems biology model's exchange.\n",
    "\n",
    "Allowed files formats are:\n",
    "* xml\n",
    "* json\n",
    "* yml"
   ]
  },
  {
   "cell_type": "code",
   "execution_count": 15,
   "metadata": {},
   "outputs": [],
   "source": [
    "model = MetabolicModel(CobraMetabolicModel(\"aureus.xml\"))"
   ]
  },
  {
   "cell_type": "markdown",
   "metadata": {},
   "source": [
    "### Get model info\n"
   ]
  },
  {
   "cell_type": "markdown",
   "metadata": {},
   "source": [
    "The following methods allow to print on the command line data from the model."
   ]
  },
  {
   "cell_type": "markdown",
   "metadata": {},
   "source": [
    "#### Model info\n"
   ]
  },
  {
   "cell_type": "code",
   "execution_count": 16,
   "metadata": {},
   "outputs": [
    {
     "name": "stdout",
     "output_type": "stream",
     "text": [
      "MODEL INFO\n",
      "-------------------------------------------------------\n",
      "MODEL:  MODEL1507180070\n",
      "REACTIONS:  743\n",
      "METABOLITES:  655\n",
      "GENES:  619\n",
      "COMPARTMENTS:  c\n",
      "               e\n",
      "\n"
     ]
    }
   ],
   "source": [
    "model.print_model_info()"
   ]
  },
  {
   "cell_type": "markdown",
   "metadata": {},
   "source": [
    "#### Metabolites\n"
   ]
  },
  {
   "cell_type": "code",
   "execution_count": 17,
   "metadata": {
    "scrolled": false
   },
   "outputs": [
    {
     "name": "stdout",
     "output_type": "stream",
     "text": [
      "MODEL:  MODEL1507180070  - NUMBER OF METABOLITES:  655\n",
      "METABOLITE  |  COMPARTMENT      |  REACTION ID\n",
      "-------------------------------------------------------\n",
      "10fthf_c    |  c                |  AICART\n",
      "            |                   |  FTHFL\n",
      "            |                   |  GARFT\n",
      "            |                   |  MTHFC\n",
      "            |                   |  biomass_SA_7a\n",
      "            |                   |  biomass_SA_8a\n",
      "            |                   |  biomass_SA_7b\n",
      "12dgr_EC_c  |  c                |  biomass_SA_2a\n",
      "            |                   |  biomass_SA_2b\n",
      "            |                   |  biomass_SA_lipids_only\n",
      "            |                   |  biomass_SA_3a\n",
      "            |            "
     ]
    },
    {
     "data": {
      "text/html": [
       "* * *"
      ]
     },
     "metadata": {},
     "output_type": "display_data"
    }
   ],
   "source": [
    "model.print_metabolites()"
   ]
  },
  {
   "cell_type": "markdown",
   "metadata": {},
   "source": [
    "#### Reactions\n"
   ]
  },
  {
   "cell_type": "code",
   "execution_count": 18,
   "metadata": {},
   "outputs": [
    {
     "name": "stdout",
     "output_type": "stream",
     "text": [
      "MODEL:  MODEL1507180070  - NUMBER OF REACTIONS:  743\n",
      "REACTION ID | UPPER BOUND | LOWER BOUND | REACTION\n",
      "-------------------------------------------------------\n",
      "3M2OBLOXRD  |   999999.0  |  -999999.0  |  3mob_c + h_c + lpam_c <=> 2mpdhl_c + co2_c\n",
      "3M2OPLOXRD  |   999999.0  |  -999999.0  |  3mop_c + h_c + lpam_c <=> 2mbdhl_c + co2_c\n",
      "4M2OPLOXRD  |   999999.0  |  -999999.0  |  4mop_c + h_c + lpam_c <=> 3mbdhl_c + co2_c\n",
      "6PGALSZ     |   999999.0  |  0.0        |  h2o_c + lac6p_c --> dgal6p_c + glc_DASH_D_c\n",
      "6PHBG       |   999999.0  |  0.0        |  h2o_c + salc6p_c --> 2hymeph_c + g6p_c\n",
      "ABTAr       |   999999.0  |  0.0        |  4abut_c + akg_c --> glu_DASH_L_c + sucsal_c\n",
      "ACACT1r     |   999999.0  "
     ]
    },
    {
     "data": {
      "text/html": [
       "* * *"
      ]
     },
     "metadata": {},
     "output_type": "display_data"
    }
   ],
   "source": [
    "model.print_reactions()"
   ]
  },
  {
   "cell_type": "markdown",
   "metadata": {},
   "source": [
    "#### Genes\n"
   ]
  },
  {
   "cell_type": "code",
   "execution_count": 19,
   "metadata": {},
   "outputs": [
    {
     "name": "stdout",
     "output_type": "stream",
     "text": [
      "MODEL:  MODEL1507180070  - NUMBER OF GENES:  619\n",
      "GENE ID     |  GENE NAME   |  REACTION ID |  GPR RELATION\n",
      "-------------------------------------------------------\n",
      "SA0008      |  SA0008      |  HISDr       |  SA0008         \n",
      "SA0009      |  SA0009      |  SERTRS      |  SA0009         \n",
      "SA0011      |  SA0011      |  HSERTA      |  SA0011         \n",
      "SA0016      |  SA0016      |  ADSS        |  SA0016         \n",
      "SA0036      |  SA0036      |  GPDDA5      |  SA0036 or SA0820 or SA1542 or SA0969 or SA0220\n",
      "            |              |  GPDDA4      |  SA0036 or SA0820 or SA1542 or SA0969 or SA0220\n",
      "            |              |  GPDDA3      |  SA0036 or SA0820 or SA1542 or SA0969 or SA0220\n",
      "            |    "
     ]
    },
    {
     "data": {
      "text/html": [
       "* * *"
      ]
     },
     "metadata": {},
     "output_type": "display_data"
    }
   ],
   "source": [
    "model.print_genes()"
   ]
  },
  {
   "cell_type": "markdown",
   "metadata": {},
   "source": [
    "### Dead-end metabolites\n",
    "\n",
    "[Dead-end metabolites](https://journals.plos.org/plosone/article?id=10.1371/journal.pone.0075210) are those metabolites which are not consumed or not produced by any reaction of a given compartment of the model including exchange reactions."
   ]
  },
  {
   "cell_type": "markdown",
   "metadata": {},
   "source": [
    "#### Finding Dead-end metabolites\n",
    "\n",
    "Dead-end metabolites of the model are calculated with the method ```find_dem()```. The method ```dem()``` returns a python [dict](https://docs.python.org/2/tutorial/datastructures.html#dictionaries) with the following content:   \n",
    "- **key**: string with compartment name.   \n",
    "- **value**: list with [cobra.core.metabolites](https://cobrapy.readthedocs.io/en/latest/getting_started.html#Metabolites)."
   ]
  },
  {
   "cell_type": "code",
   "execution_count": 20,
   "metadata": {
    "scrolled": false
   },
   "outputs": [
    {
     "data": {
      "text/plain": [
       "{'c': [<Metabolite clpn_EC_c at 0x7f9ed3818050>,\n",
       "  <Metabolite dgdcg_SA_c at 0x7f9ed379c0d0>,\n",
       "  <Metabolite drib_c at 0x7f9ed3692150>,\n",
       "  <Metabolite octdp_c at 0x7f9ed3a0e150>,\n",
       "  <Metabolite DGDG_SA_c at 0x7f9ed373a1d0>,\n",
       "  <Metabolite udcp_c at 0x7f9ed3888590>,\n",
       "  <Metabolite octp_c at 0x7f9ed3a0e650>,\n",
       "  <Metabolite fdxox_c at 0x7f9ed37886d0>,\n",
       "  <Metabolite 2a3pp_c at 0x7f9ed37c26d0>,\n",
       "  <Metabolite plys_SA_c at 0x7f9ed37966d0>,\n",
       "  <Metabolite uppg1_c at 0x7f9ed3888810>,\n",
       "  <Metabolite pleu_SA_c at 0x7f9ed3796850>,\n",
       "  <Metabolite adprib_c at 0x7f9ed382c890>,\n",
       "  <Metabolite Sptmyn_c at 0x7f9ed373a990>,\n",
       "  <Metabolite sucr_c at 0x7f9ed37909d0>,\n",
       "  <Metabolite Stmyn_c at 0x7f9ed373a9d0>,\n",
       "  <Metabolite "
      ]
     },
     "execution_count": 20,
     "metadata": {},
     "output_type": "execute_result"
    },
    {
     "data": {
      "text/html": [
       "* * *"
      ]
     },
     "metadata": {},
     "output_type": "display_data"
    }
   ],
   "source": [
    "model.find_dem()\n",
    "model.dem()"
   ]
  },
  {
   "cell_type": "markdown",
   "metadata": {},
   "source": [
    "Dead-end metabolites can be printed on the command line with ```print_dem()``` method."
   ]
  },
  {
   "cell_type": "code",
   "execution_count": 21,
   "metadata": {},
   "outputs": [
    {
     "name": "stdout",
     "output_type": "stream",
     "text": [
      "MODEL:  MODEL1507180070  - NUMBER OF DEM:  2  - COMPARTMENT:  ALL\n",
      "METABOLITE  |  COMPARTMENT      |  REACTION ID\n",
      "-------------------------------------------------------\n",
      "clpn_EC_c   |  c                |  biomass_SA_2a\n",
      "            |                   |  biomass_SA_2b\n",
      "            |                   |  biomass_SA_lipids_only\n",
      "            |                   |  biomass_SA_3a\n",
      "            |                   |  biomass_SA_3b\n",
      "dgdcg_SA_c  |  c                |  biomass_SA_3a\n",
      "            |                   |  biomass_SA_3b\n",
      "drib_c      |  c                |  DRBK\n",
      "octdp_c     |  c                |  DHNAOT\n",
      "DGDG_SA_c   |  c                |  biomass_SA_2a\n",
      "            |                   |  biomass_SA_li"
     ]
    },
    {
     "data": {
      "text/html": [
       "* * *"
      ]
     },
     "metadata": {},
     "output_type": "display_data"
    }
   ],
   "source": [
    "model.print_dem()"
   ]
  },
  {
   "cell_type": "markdown",
   "metadata": {},
   "source": [
    "Dead-end metabolites printed can be limited to a specific compartment. Avaible compartments are given by ```model.compartments()``` method."
   ]
  },
  {
   "cell_type": "code",
   "execution_count": 22,
   "metadata": {},
   "outputs": [
    {
     "name": "stdout",
     "output_type": "stream",
     "text": [
      "MODEL:  MODEL1507180070  - NUMBER OF DEM:  2  - COMPARTMENT:  e\n",
      "METABOLITE  |  COMPARTMENT      |  REACTION ID\n",
      "-------------------------------------------------------\n",
      "acnam_e     |  e                |  ACNAMt2\n",
      "            |                   |  EX_acnam_e\n",
      "gua_e       |  e                |  EX_gua_e\n",
      "            |                   |  GUAt2\n",
      "Cit_DASH_Mg_e  |  e                |  CIT_Mgt\n",
      "            |                   |  EX_Cit_DASH_Mg_e\n",
      "zn2_e       |  e                |  EX_zn2_e\n",
      "            |                   |  ZNabc\n",
      "gly_e       |  e                |  EX_gly_e\n",
      "            |                   |  GLYabc\n",
      "crn_e       |  e                |  CRNabc\n",
      "            |                   |  EX_crn_e\n",
      "cys_"
     ]
    },
    {
     "data": {
      "text/html": [
       "* * *"
      ]
     },
     "metadata": {},
     "output_type": "display_data"
    }
   ],
   "source": [
    "model.print_dem(compartment=\"e\")"
   ]
  },
  {
   "cell_type": "markdown",
   "metadata": {},
   "source": [
    "#### Removing dead-end metabolites\n",
    "\n",
    "Method ```remove_dem()``` removes dead-end metabolites from the model. Once dead-end metabolites are deleted, some reactions might not produce a metabolite anymore so the method deletes also these reactions and loops again until no dead-end metabolite is found:\n",
    "\n",
    "```\n",
    "while number of metabolites doesnt change:\n",
    "    delete all dead-end metabolites\n",
    "    for reaction that produced or consumed dead-end metabolites:\n",
    "        if reaction produces or consumes 0 metabolites [and is not exchange nor demand]: \n",
    "            delete reaction\n",
    "    find dead-end metabolites\n",
    "```\n",
    "\n",
    "The reactions that are deleted on the method can be modified by the following params: \n",
    "<ul>\n",
    "<li> **delete_exchange** :   \n",
    "     <ul> \n",
    "         <li> **True** : all the reactions that are produce or consume 0 metabolites are deleted whether they are exchange/demand or not. </li>    \n",
    "         <li> **False** : (default) deleted according to 'keep_all_incomplete_reactions' param. </li>\n",
    "     </ul>\n",
    "</li>\n",
    "<li> **keep_all_incomplete_reactions** :\n",
    "     <ul>\n",
    "        <li> **False**: if a reactions is a [cobra boundary reaction](https://cobrapy.readthedocs.io/en/latest/media.html#Boundary-reactions) (calculated by heuristics) that reaction can't be deleted. </li> \n",
    "        <li> **True**: (default) if a reaction initially doesn't produce or consume any metabolite that reaction can't be deleted. </li>\n",
    "     </ul>\n",
    "</li>\n",
    "</ul>"
   ]
  },
  {
   "cell_type": "code",
   "execution_count": 23,
   "metadata": {},
   "outputs": [
    {
     "name": "stdout",
     "output_type": "stream",
     "text": [
      "Metabolites:  655 \n",
      "Reactions:  743\n"
     ]
    }
   ],
   "source": [
    "print(\"Metabolites: \", len(model.metabolites()), \"\\nReactions: \", len(model.reactions()))\n"
   ]
  },
  {
   "cell_type": "code",
   "execution_count": 24,
   "metadata": {},
   "outputs": [],
   "source": [
    "model.remove_dem()"
   ]
  },
  {
   "cell_type": "code",
   "execution_count": 25,
   "metadata": {
    "scrolled": true
   },
   "outputs": [
    {
     "name": "stdout",
     "output_type": "stream",
     "text": [
      "Metabolites:  486 \n",
      "Reactions:  739\n"
     ]
    }
   ],
   "source": [
    "print(\"Metabolites: \", len(model.metabolites()), \"\\nReactions: \", len(model.reactions()))\n"
   ]
  },
  {
   "cell_type": "markdown",
   "metadata": {},
   "source": [
    "### Dead reactions\n",
    "\n",
    "Dead reactions are those reactions with upper and lower flux equal to zero.\n",
    "\n",
    "#### Finding Dead reactions\n",
    "\n",
    "Dead reactions of the model are calculated with the method ```dead_reactions()```, which returns a list of [cobra.core.reactions](https://cobrapy.readthedocs.io/en/latest/getting_started.html#Reactions) with dead reactions."
   ]
  },
  {
   "cell_type": "code",
   "execution_count": 27,
   "metadata": {},
   "outputs": [
    {
     "data": {
      "text/plain": [
       "[<Reaction SA_biomass_1a at 0x7f9ed2ed7d50>,\n",
       " <Reaction biomass_SA_2a at 0x7f9ed2e31910>,\n",
       " <Reaction biomass_SA_2b at 0x7f9ed2e31310>,\n",
       " <Reaction biomass_SA_3a at 0x7f9ed2e31a90>,\n",
       " <Reaction biomass_SA_3b at 0x7f9ed2e31e90>,\n",
       " <Reaction biomass_SA_4a at 0x7f9ed2e3c150>,\n",
       " <Reaction biomass_SA_5a at 0x7f9ed2e3c050>,\n",
       " <Reaction biomass_SA_6a at 0x7f9ed2e3cfd0>,\n",
       " <Reaction biomass_SA_6b at 0x7f9ed2dd3650>,\n",
       " <Reaction biomass_SA_7a at 0x7f9ed2de2f90>,\n",
       " <Reaction biomass_SA_7b at 0x7f9ed2dd3f90>,\n",
       " <Reaction biomass_SA_lipids_only at 0x7f9ed2dd3fd0>,\n",
       " <Reaction biomass_SA_nuc_only at 0x7f9ed2e31950>,\n",
       " <Reaction biomass_SA_only_AA at 0x7f9ed2e31c90>]"
      ]
     },
     "execution_count": 27,
     "metadata": {},
     "output_type": "execute_result"
    }
   ],
   "source": [
    "model.dead_reactions()"
   ]
  },
  {
   "cell_type": "markdown",
   "metadata": {},
   "source": [
    "### Chokepoint reactions\n",
    "\n",
    "[Chokepoint reactions](https://www.ncbi.nlm.nih.gov/pmc/articles/PMC2174424/) are those reactions that are the only consumer or producer of a given metabolite that isn't a dead-end metabolite. "
   ]
  },
  {
   "cell_type": "markdown",
   "metadata": {},
   "source": [
    "#### Finding chokepoint reactions\n",
    "\n",
    "Chokepoint reactions are calculated with the method ```find_chokepoints()```. The method ```chokepoints()``` returns a list of tuples of types ([cobra.core.reactions](https://cobrapy.readthedocs.io/en/latest/getting_started.html#Reactions), [cobra.core.metabolites](https://cobrapy.readthedocs.io/en/latest/getting_started.html#Metabolites)) representing a chokepoint reactions object and the metabolite it only produces/consumes."
   ]
  },
  {
   "cell_type": "code",
   "execution_count": 28,
   "metadata": {
    "scrolled": true
   },
   "outputs": [
    {
     "data": {
      "text/plain": [
       "[(<Reaction PAPA_SA at 0x7f9ed31df450>,\n",
       "  <Metabolite 12dgr_SA_c at 0x7f9ed38b1d50>),\n",
       " (<Reaction PROD2 at 0x7f9ed32eb750>, <Metabolite 1pyr5c_c at 0x7f9ed38b1a90>),\n",
       " (<Reaction DHDPRy at 0x7f9ed3a4a9d0>,\n",
       "  <Metabolite 23dhdp_c at 0x7f9ed312e690>),\n",
       " (<Reaction DHDPS at 0x7f9ed3a44350>, <Metabolite 23dhdp_c at 0x7f9ed312e690>),\n",
       " (<Reaction DHAD1 at 0x7f9ed3a54550>, <Metabolite 23dhmb_c at 0x7f9ed312e190>),\n",
       " (<Reaction KARA1i at 0x7f9ed31f9310>,\n",
       "  <Metabolite 23dhmb_c at 0x7f9ed312e190>),\n",
       " (<Reaction DHAD2 at 0x7f9ed3a4aa50>, <Metabolite 23dhmp_c at 0x7f9ed312edd0>),\n",
       " (<Reaction KARA2i at 0x7f9ed31f9690>,\n",
       "  <Metabolite 23dhmp_c at 0x7f9ed312edd0>),\n",
       " (<Reaction DHPPDA at 0x7f9ed3ab3450>,\n",
       "  <Met"
      ]
     },
     "execution_count": 28,
     "metadata": {},
     "output_type": "execute_result"
    },
    {
     "data": {
      "text/html": [
       "* * *"
      ]
     },
     "metadata": {},
     "output_type": "display_data"
    }
   ],
   "source": [
    "# Read initial model again\n",
    "model = MetabolicModel(CobraMetabolicModel(\"aureus.xml\"))\n",
    "\n",
    "model.find_chokepoints()\n",
    "model.chokepoints()"
   ]
  },
  {
   "cell_type": "markdown",
   "metadata": {},
   "source": [
    "Dead reactions can be excluded from the computation of chokepoints with the ```exclude_dead_reactions=True``` parameter."
   ]
  },
  {
   "cell_type": "code",
   "execution_count": 31,
   "metadata": {},
   "outputs": [
    {
     "data": {
      "text/plain": [
       "[(<Reaction PAPA_SA at 0x7f9ed31df450>,\n",
       "  <Metabolite 12dgr_SA_c at 0x7f9ed38b1d50>),\n",
       " (<Reaction PROD2 at 0x7f9ed32eb750>, <Metabolite 1pyr5c_c at 0x7f9ed38b1a90>),\n",
       " (<Reaction DHDPRy at 0x7f9ed3a4a9d0>,\n",
       "  <Metabolite 23dhdp_c at 0x7f9ed312e690>),\n",
       " (<Reaction DHDPS at 0x7f9ed3a44350>, <Metabolite 23dhdp_c at 0x7f9ed312e690>),\n",
       " (<Reaction DHAD1 at 0x7f9ed3a54550>, <Metabolite 23dhmb_c at 0x7f9ed312e190>),\n",
       " (<Reaction KARA1i at 0x7f9ed31f9310>,\n",
       "  <Metabolite 23dhmb_c at 0x7f9ed312e190>),\n",
       " (<Reaction DHAD2 at 0x7f9ed3a4aa50>, <Metabolite 23dhmp_c at 0x7f9ed312edd0>),\n",
       " (<Reaction KARA2i at 0x7f9ed31f9690>,\n",
       "  <Metabolite 23dhmp_c at 0x7f9ed312edd0>),\n",
       " (<Reaction DHPPDA at 0x7f9ed3ab3450>,\n",
       "  <Met"
      ]
     },
     "execution_count": 31,
     "metadata": {},
     "output_type": "execute_result"
    },
    {
     "data": {
      "text/html": [
       "* * *"
      ]
     },
     "metadata": {},
     "output_type": "display_data"
    }
   ],
   "source": [
    "model.find_chokepoints(exclude_dead_reactions=True)\n",
    "model.chokepoints()"
   ]
  },
  {
   "cell_type": "markdown",
   "metadata": {},
   "source": [
    "Chokepoint reactions can also be printed on the command line with ```print_chokepoints```."
   ]
  },
  {
   "cell_type": "code",
   "execution_count": 14,
   "metadata": {},
   "outputs": [
    {
     "name": "stdout",
     "output_type": "stream",
     "text": [
      "MODEL:  MODEL1507180070  - NUMBER OF CHOKEPOINTS:  439\n",
      "METABOLITE ID |  METABOLITE NAME                           | REACTION ID | REACTION NAME\n",
      "------------------------------------------------------------\n",
      "12dgr_SA_c    |  1,2-Daicylglycerol (Saureus)              |  PAPA_SA    |  Phosphatidate phosphatase\n",
      "1pyr5c_c      |  1-Pyrroline-5-carboxylate                 |  PROD2      |  Proline dehydrogenase\n",
      "23dhdp_c      |  2,3-Dihydrodipicolinate                   |  DHDPRy     |  dihydrodipicolinate reductase (NADPH)\n",
      "23dhdp_c      |  2,3-Dihydrodipicolinate                   |  DHDPS      |  dihydrodipicolinate synthase\n",
      "23dhmb_c      |  (R)-2,3-Dihydroxy-3-methylbutanoate       |  DHAD1      |  "
     ]
    },
    {
     "data": {
      "text/html": [
       "* * *"
      ]
     },
     "metadata": {},
     "output_type": "display_data"
    }
   ],
   "source": [
    "model.print_chokepoints()"
   ]
  },
  {
   "cell_type": "markdown",
   "metadata": {},
   "source": [
    "### Flux Balance Analysis\n",
    "\n",
    "[Flux Balance Analysis (FBA)](https://www.ncbi.nlm.nih.gov/pmc/articles/PMC3108565/) is a mathematical procedure used to calculate the growth rate of a metabolic model considering a objective function to maximize and the reactions flux as constraints.\n",
    "\n",
    "The method ```get_growth()``` calculates the objective value (growth rate) that maximizes the objective function. This method uses [cobra.core.model.slim_optimize](https://cobrapy.readthedocs.io/en/latest/autoapi/cobra/core/model/index.html?highlight=slim#cobra.core.model.Model.slim_optimize) and was obtained from [cobra.flux_analysis.deletion](https://cobrapy.readthedocs.io/en/latest/_modules/cobra/flux_analysis/deletion.html#_get_growth). \n",
    "\n",
    "The objective value obtained with FBA can be accesed with ```objective_value()```."
   ]
  },
  {
   "cell_type": "code",
   "execution_count": 15,
   "metadata": {},
   "outputs": [
    {
     "data": {
      "text/plain": [
       "0.1580502916027849"
      ]
     },
     "execution_count": 15,
     "metadata": {},
     "output_type": "execute_result"
    }
   ],
   "source": [
    "model.get_growth()\n",
    "model.objective_value()"
   ]
  },
  {
   "cell_type": "markdown",
   "metadata": {},
   "source": [
    "The objective function that is maximized during FBA can be accesed by ```objective()```"
   ]
  },
  {
   "cell_type": "code",
   "execution_count": 16,
   "metadata": {},
   "outputs": [
    {
     "data": {
      "text/plain": [
       "'1.0*biomass_SA_8a - 1.0*biomass_SA_8a_reverse_4ce77'"
      ]
     },
     "execution_count": 16,
     "metadata": {},
     "output_type": "execute_result"
    }
   ],
   "source": [
    "model.objective()"
   ]
  },
  {
   "cell_type": "markdown",
   "metadata": {},
   "source": [
    "This objective function can be changed by another reaction of the model with ```set_objective()```. This method receives the id of the reaction that will be set as the new objective value."
   ]
  },
  {
   "cell_type": "code",
   "execution_count": 17,
   "metadata": {},
   "outputs": [
    {
     "data": {
      "text/plain": [
       "'1.0*DHAD1 - 1.0*DHAD1_reverse_39dca'"
      ]
     },
     "execution_count": 17,
     "metadata": {},
     "output_type": "execute_result"
    }
   ],
   "source": [
    "model.set_objective(\"DHAD1\")\n",
    "model.objective()"
   ]
  },
  {
   "cell_type": "markdown",
   "metadata": {},
   "source": [
    "### Flux Variability Analysis\n",
    "\n",
    "[Flux Vatiability Analysis (FVA)](https://bmcbioinformatics.biomedcentral.com/articles/10.1186/1471-2105-11-489) is a mathematical procedure used to calculate the ''minimum and maximum flux for reactions in the network while maintaining some state of the network, e.g., supporting 90% of maximal possible biomass production rate''.\n",
    "\n",
    "The method ```fva()``` runs Flux Variability Analysis on the model. This method runs [cobra.flux_analysis.variability](https://cobrapy.readthedocs.io/en/latest/autoapi/cobra/flux_analysis/variability/index.html?highlight=flux_varia#cobra.flux_analysis.variability.flux_variability_analysis) and as so it allows the same parameters (see the previous link):   \n",
    "    - **loopless**: (default False) return only loopless solutions.   \n",
    "    - **threshold**: (float default None. In cobrapy 'fraction_of_optimum'): Requires that the objective value is at least the fraction times maximum objective value.   \n",
    "    - **pfba_factor**: (float default None) the total sum of absolute fluxes must not be larger than this value times the smallest possible sum of absolute fluxes.\n",
    "\n",
    "An extra parameter:   \n",
    "    - **verbose**: (default False) if True prints on the command line the result of FVA while running the analysis.\n",
    "\n",
    "Method ```fva()``` returns an error list if there was an error while running FVA or an empty list ```[]``` otherwise. "
   ]
  },
  {
   "cell_type": "code",
   "execution_count": 18,
   "metadata": {},
   "outputs": [
    {
     "data": {
      "text/plain": [
       "[]"
      ]
     },
     "execution_count": 18,
     "metadata": {},
     "output_type": "execute_result"
    }
   ],
   "source": [
    "model.fva(threshold=0.95)"
   ]
  },
  {
   "cell_type": "code",
   "execution_count": 19,
   "metadata": {},
   "outputs": [
    {
     "name": "stdout",
     "output_type": "stream",
     "text": [
      "FLUX VARIABILITY ANALYSIS:  MODEL1507180070\n",
      "REACTION:  3-Methyl-2-oxobutanoate:lipoamide oxidoreductase(decarboxylating and acceptor-2-methylpropanoylating)\n",
      "    fva ranges:   [ 0.0        ,  0.0        ]\n",
      "REACTION:  3-Methyl-2-oxopentanoate:lipoamide oxidoreductase(decarboxylating and acceptor-2-methylpropanoylating)\n",
      "    fva ranges:   [ 0.0        ,  0.0        ]\n",
      "REACTION:  4-Methyl-2-oxopentanoate:lipoamide oxidoreductase(decarboxylating and acceptor-2-methylpropanoylating)\n",
      "    fva ranges:   [ 0.0        ,  0.0        ]\n",
      "REACTION:  6-phospho-beta-galactosidase\n",
      "    fva ranges:   [ 0.0        ,  0.0        ]\n",
      "REACTION:  6-phospho-beta-glucosidase\n",
      "    fva ranges:   [ 0.0        ,  0.0        ]\n",
      "RE"
     ]
    },
    {
     "data": {
      "text/html": [
       "* * *"
      ]
     },
     "metadata": {},
     "output_type": "display_data"
    }
   ],
   "source": [
    "model.fva(threshold=0.95, verbose=True)"
   ]
  },
  {
   "cell_type": "markdown",
   "metadata": {},
   "source": [
    "The result obtained with FVA can be accesed with ```get_fva()```. This method returns a list of tuples: ([cobra.core.reaction](https://cobrapy.readthedocs.io/en/latest/getting_started.html#Reactions), \\[float\\] maximum flux, \\[float\\] minimum flux)"
   ]
  },
  {
   "cell_type": "code",
   "execution_count": 20,
   "metadata": {},
   "outputs": [
    {
     "data": {
      "text/plain": [
       "[(<Reaction 3M2OBLOXRD at 0x7f79b4e53c90>, 0.0, 0.0),\n",
       " (<Reaction 3M2OPLOXRD at 0x7f79b4e53c50>, 0.0, 0.0),\n",
       " (<Reaction 4M2OPLOXRD at 0x7f79b4e53b10>, 0.0, 0.0),\n",
       " (<Reaction 6PGALSZ at 0x7f79b4e53ed0>, 0.0, 0.0),\n",
       " (<Reaction 6PHBG at 0x7f79b4e53a90>, 0.0, 0.0),\n",
       " (<Reaction ABTAr at 0x7f79b4e4bc50>, 0.0, 0.0),\n",
       " (<Reaction ACACT1r at 0x7f79b4e4b110>,\n",
       "  0.00032511320071648854,\n",
       "  -2065.6249999999704),\n",
       " (<Reaction ACACT2r at 0x7f79b4e43950>, 0.0, -2065.624999999973),\n",
       " (<Reaction ACACT3r at 0x7f79b4e4bad0>, 0.0, -2065.624999999973),\n",
       " (<Reaction ACACT4r at 0x7f79b4e53210>, 0.0, -2065.624999999973),\n",
       " (<Reaction ACACT5r at 0x7f79b4e4bc90>, 0.0, -2065.624999999973),\n",
       " (<Reaction ACACT6r at 0x7f79b4e439"
      ]
     },
     "execution_count": 20,
     "metadata": {},
     "output_type": "execute_result"
    },
    {
     "data": {
      "text/html": [
       "* * *"
      ]
     },
     "metadata": {},
     "output_type": "display_data"
    }
   ],
   "source": [
    "model.get_fva()"
   ]
  },
  {
   "cell_type": "markdown",
   "metadata": {},
   "source": [
    "#### Updating reaction's flux with FVA\n",
    "\n",
    "**findCritical** adds an extra parameter to this method which is ```update_flux```. If ```True``` the method ```fva()``` updates the model reaction's flux with the maximum and minimum flux values obtained with FVA (see the example below)."
   ]
  },
  {
   "cell_type": "code",
   "execution_count": 21,
   "metadata": {},
   "outputs": [
    {
     "name": "stdout",
     "output_type": "stream",
     "text": [
      "MODEL:  MODEL1507180070  - NUMBER OF REACTIONS:  743\n",
      "REACTION ID | UPPER BOUND | LOWER BOUND | REACTION\n",
      "-------------------------------------------------------\n",
      "3M2OBLOXRD  |   999999.0  |  -999999.0  |  3mob_c + h_c + lpam_c <=> 2mpdhl_c + co2_c\n",
      "3M2OPLOXRD  |   999999.0  |  -999999.0  |  3mop_c + h_c + lpam_c <=> 2mbdhl_c + co2_c\n",
      "4M2OPLOXRD  |   999999.0  |  -999999.0  |  4mop_c + h_c + lpam_c <=> 3mbdhl_c + co2_c\n",
      "6PGALSZ     |   999999.0  |  0.0        |  h2o_c + lac6p_c --> dgal6p_c + glc_DASH_D_c\n",
      "6PHBG       |   999999.0  |  0.0        |  h2o_c + salc6p_c --> 2hymeph_c + g6p_c\n",
      "ABTAr       |   999999.0  |  0.0        |  4abut_c + akg_c --> glu_DASH_L_c + sucsal_c\n",
      "ACACT1r     |   999999.0  "
     ]
    },
    {
     "data": {
      "text/html": [
       "* * *"
      ]
     },
     "metadata": {},
     "output_type": "display_data"
    }
   ],
   "source": [
    "# Print initial reactions of the model with initial flux values.\n",
    "model.print_reactions()"
   ]
  },
  {
   "cell_type": "code",
   "execution_count": 22,
   "metadata": {},
   "outputs": [
    {
     "data": {
      "text/plain": [
       "[]"
      ]
     },
     "execution_count": 22,
     "metadata": {},
     "output_type": "execute_result"
    }
   ],
   "source": [
    "# Update reactions flux values with FVA\n",
    "model.fva(update_flux=True)"
   ]
  },
  {
   "cell_type": "code",
   "execution_count": 23,
   "metadata": {
    "scrolled": false
   },
   "outputs": [
    {
     "name": "stdout",
     "output_type": "stream",
     "text": [
      "MODEL:  MODEL1507180070  - NUMBER OF REACTIONS:  743\n",
      "REACTION ID | UPPER BOUND | LOWER BOUND | REACTION\n",
      "-------------------------------------------------------\n",
      "3M2OBLOXRD  |   0.0       |  0.0        |  3mob_c + h_c + lpam_c --> 2mpdhl_c + co2_c\n",
      "3M2OPLOXRD  |   0.0       |  0.0        |  3mop_c + h_c + lpam_c --> 2mbdhl_c + co2_c\n",
      "4M2OPLOXRD  |   0.0       |  0.0        |  4mop_c + h_c + lpam_c --> 3mbdhl_c + co2_c\n",
      "6PGALSZ     |   0.0       |  0.0        |  h2o_c + lac6p_c --> dgal6p_c + glc_DASH_D_c\n",
      "6PHBG       |   0.0       |  0.0        |  h2o_c + salc6p_c --> 2hymeph_c + g6p_c\n",
      "ABTAr       |   0.0       |  0.0        |  4abut_c + akg_c --> glu_DASH_L_c + sucsal_c\n",
      "ACACT1r     |   -3.26642  "
     ]
    },
    {
     "data": {
      "text/html": [
       "* * *"
      ]
     },
     "metadata": {},
     "output_type": "display_data"
    }
   ],
   "source": [
    "# Print reactions of the model with refined reactions flux values.\n",
    "model.print_reactions()"
   ]
  },
  {
   "cell_type": "markdown",
   "metadata": {},
   "source": [
    "### Essential genes\n",
    "\n",
    "[Essential genes](https://link.springer.com/chapter/10.1007/978-3-642-36546-1_43) are those genes that cause a zero growth rate when knocked out.\n",
    "\n",
    "#### Finding essential genes\n",
    "\n",
    "Essential genes are calculated with the method ```find_essential_genes_1()```. This method returns an error list if there was an error during the computing or an empty list ```[]``` otherwise."
   ]
  },
  {
   "cell_type": "code",
   "execution_count": 33,
   "metadata": {
    "scrolled": true
   },
   "outputs": [
    {
     "data": {
      "text/plain": [
       "[]"
      ]
     },
     "execution_count": 33,
     "metadata": {},
     "output_type": "execute_result"
    }
   ],
   "source": [
    "model.find_essential_genes_1()"
   ]
  },
  {
   "cell_type": "markdown",
   "metadata": {},
   "source": [
    "If essential genes were computed with the method above, they can be accesed with ```essential_genes()```. This method return a list of [cobra.core.gene](https://cobrapy.readthedocs.io/en/latest/getting_started.html#Genes) with essential genes."
   ]
  },
  {
   "cell_type": "code",
   "execution_count": 35,
   "metadata": {
    "scrolled": true
   },
   "outputs": [
    {
     "data": {
      "text/plain": [
       "{<Gene SA0016 at 0x7f9ed3143e50>,\n",
       " <Gene SA0134 at 0x7f9ed3110b90>,\n",
       " <Gene SA0176 at 0x7f9ed31a95d0>,\n",
       " <Gene SA0177 at 0x7f9ed31a9390>,\n",
       " <Gene SA0178 at 0x7f9ed31a4810>,\n",
       " <Gene SA0179 at 0x7f9ed31a4f10>,\n",
       " <Gene SA0244 at 0x7f9ed3198990>,\n",
       " <Gene SA0344 at 0x7f9ed31901d0>,\n",
       " <Gene SA0345 at 0x7f9ed3190b10>,\n",
       " <Gene SA0346 at 0x7f9ed3190ad0>,\n",
       " <Gene SA0347 at 0x7f9ed3190d90>,\n",
       " <Gene SA0375 at 0x7f9ed3190350>,\n",
       " <Gene SA0376 at 0x7f9ed318f610>,\n",
       " <Gene SA0419 at 0x7f9ed3190490>,\n",
       " <Gene SA0439 at 0x7f9ed3190b90>,\n",
       " <Gene SA0457 at 0x7f9ed31922d0>,\n",
       " <Gene SA0458 at 0x7f9ed3192490>,\n",
       " <Gene SA0472 at 0x7f9ed3192910>,\n",
       " <Gene SA0473 at 0x7f9ed3192ad0>,\n",
       " <Gene SA0474 at 0x7f9ed3192b50>,\n",
       " <Gene SA0486 at 0x7"
      ]
     },
     "execution_count": 35,
     "metadata": {},
     "output_type": "execute_result"
    },
    {
     "data": {
      "text/html": [
       "* * *"
      ]
     },
     "metadata": {},
     "output_type": "display_data"
    }
   ],
   "source": [
    "model.essential_genes()"
   ]
  },
  {
   "cell_type": "markdown",
   "metadata": {},
   "source": [
    "### Essential reactions\n",
    "\n",
    "Essential reactions are those genes that cause a zero growth rate when knocked out.\n",
    "\n",
    "#### Finding essential reactions\n",
    "\n",
    "Essential reactions are calculated with the method ```find_essential_reactions_1()```. This method returns an error list if there was an error during the computing or an empty list ```[]``` otherwise."
   ]
  },
  {
   "cell_type": "code",
   "execution_count": 36,
   "metadata": {},
   "outputs": [],
   "source": [
    "model.find_essential_reactions_1()"
   ]
  },
  {
   "cell_type": "markdown",
   "metadata": {},
   "source": [
    "If essential genes were computed with the method above, they can be accesed with ```essential_reactions()```. This method return a ```dict``` with keys [cobra.core.reaction](https://cobrapy.readthedocs.io/en/latest/getting_started.html#Reactions) with all the reactions of the model, and values ```float``` with the result of computing FBA with the reaction knocked-out.\n"
   ]
  },
  {
   "cell_type": "code",
   "execution_count": 37,
   "metadata": {
    "scrolled": true
   },
   "outputs": [
    {
     "data": {
      "text/plain": [
       "{<Reaction SBTD_Dr at 0x7f9ed356ee50>: 0.1580502916027849,\n",
       " <Reaction ARGSL at 0x7f9ed3667b10>: 0.1580502916027849,\n",
       " <Reaction CIT_Mgt at 0x7f9ed38b7210>: 0.1580502916027849,\n",
       " <Reaction METabc at 0x7f9ed31eea90>: 0.1580502916027849,\n",
       " <Reaction GLGC at 0x7f9ed318ba50>: 0.1580502916027849,\n",
       " <Reaction EX_gly_e at 0x7f9ed3af4ed0>: 0.1580502916027849,\n",
       " <Reaction HISDr at 0x7f9ed31fef90>: 0.1580502916027849,\n",
       " <Reaction EX_acnam_e at 0x7f9ed3a80cd0>: 0.1580502916027849,\n",
       " <Reaction PTHPS at 0x7f9ed32d1990>: 0.1580502916027849,\n",
       " <Reaction biomass_SA_2b at 0x7f9ed3402110>: 0.1580502916027849,\n",
       " <Reaction NADH5 at 0x7f9ed31e9410>: 0.1580502916027849,\n",
       " <Reaction CBPS at 0x7f9ed37f8f50>: 0.158050291602784"
      ]
     },
     "execution_count": 37,
     "metadata": {},
     "output_type": "execute_result"
    },
    {
     "data": {
      "text/html": [
       "* * *"
      ]
     },
     "metadata": {},
     "output_type": "display_data"
    }
   ],
   "source": [
    "model.essential_reactions()"
   ]
  },
  {
   "cell_type": "markdown",
   "metadata": {},
   "source": [
    "### Essential genes reactions\n",
    "\n",
    "Essential genes reactions are those reactions that are knocked-out when an essential gene is knocked-out.\n",
    "\n",
    "#### Finding essential genes reactions\n",
    "\n",
    "Essential genes reactions are calculated with the method ```find_essential_genes_reactions()```. This method returns an error list if there was an error during the computing or an empty list ```[]``` otherwise."
   ]
  },
  {
   "cell_type": "code",
   "execution_count": 38,
   "metadata": {},
   "outputs": [
    {
     "data": {
      "text/plain": [
       "[]"
      ]
     },
     "execution_count": 38,
     "metadata": {},
     "output_type": "execute_result"
    }
   ],
   "source": [
    "model.find_essential_genes_reactions()"
   ]
  },
  {
   "cell_type": "markdown",
   "metadata": {},
   "source": [
    "If essential genes reactions were computed with the method above, they can be accesed with ```essential_genes_reactions()```. This method returns a ```dict``` with keys [cobra.core.reaction](https://cobrapy.readthedocs.io/en/latest/getting_started.html#Reactions) with all the reactions of the model, and values a ```list``` of [cobra.core.genes](https://cobrapy.readthedocs.io/en/latest/getting_started.html#Genes) with the essential genes that cause the knock-out of the reaction.\n"
   ]
  },
  {
   "cell_type": "code",
   "execution_count": 39,
   "metadata": {},
   "outputs": [
    {
     "data": {
      "text/plain": [
       "{<Reaction ANPRT at 0x7f9ed3602f10>: [<Gene SA1201 at 0x7f9ed316c050>],\n",
       " <Reaction SHK3Dr at 0x7f9ed3570f10>: [<Gene SA1424 at 0x7f9ed3a0a050>],\n",
       " <Reaction SUCD4 at 0x7f9ed3313c50>: [<Gene SA0994 at 0x7f9ed3156050>,\n",
       "  <Gene SA0995 at 0x7f9ed3156210>,\n",
       "  <Gene SA0996 at 0x7f9ed3156450>],\n",
       " <Reaction SUCD1 at 0x7f9ed3313fd0>: [<Gene SA0994 at 0x7f9ed3156050>,\n",
       "  <Gene SA0995 at 0x7f9ed3156210>,\n",
       "  <Gene SA0996 at 0x7f9ed3156450>],\n",
       " <Reaction PPBNGS at 0x7f9ed32aadd0>: [<Gene SA1492 at 0x7f9ed3a0e050>],\n",
       " <Reaction CYTBD at 0x7f9ed38c0ad0>: [<Gene SA0938 at 0x7f9ed314c090>,\n",
       "  <Gene SA0910 at 0x7f9ed31ba8d0>,\n",
       "  <Gene SA0912 at 0x7f9ed31bac10>,\n",
       "  <Gene SA0937 at 0x7f9ed3148e50>,\n",
       "  <Gene SA0911 at 0x7f"
      ]
     },
     "execution_count": 39,
     "metadata": {},
     "output_type": "execute_result"
    },
    {
     "data": {
      "text/html": [
       "* * *"
      ]
     },
     "metadata": {},
     "output_type": "display_data"
    }
   ],
   "source": [
    "model.essential_genes_reactions()"
   ]
  }
 ],
 "metadata": {
  "kernelspec": {
   "display_name": "Python 3",
   "language": "python",
   "name": "python3"
  },
  "language_info": {
   "codemirror_mode": {
    "name": "ipython",
    "version": 3
   },
   "file_extension": ".py",
   "mimetype": "text/x-python",
   "name": "python",
   "nbconvert_exporter": "python",
   "pygments_lexer": "ipython3",
   "version": "3.7.9"
  }
 },
 "nbformat": 4,
 "nbformat_minor": 2
}
